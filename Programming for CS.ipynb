{
 "cells": [
  {
   "cell_type": "code",
   "execution_count": 1,
   "metadata": {},
   "outputs": [
    {
     "name": "stdout",
     "output_type": "stream",
     "text": [
      "What is your weight? 120\n",
      "What is your height? 5.7\n"
     ]
    },
    {
     "data": {
      "text/plain": [
       "21.0"
      ]
     },
     "execution_count": 1,
     "metadata": {},
     "output_type": "execute_result"
    }
   ],
   "source": [
    "weight = float(input(\"What is your weight? \")) #prompting the user to enter their weight and storing it to a variable called weight\n",
    "height = float(input(\"What is your height? \"))  #prompting the user to enter their height and storing it to a variable called height\n",
    "\n",
    "def bmi(): #creating a function to calculate the bmi\n",
    "    return weight//height #returning the bmi calculated by the formula \n",
    "\n",
    "bmi() #calling the function\n",
    "\n"
   ]
  },
  {
   "cell_type": "code",
   "execution_count": null,
   "metadata": {},
   "outputs": [],
   "source": [
    "#Write a program that calculates and prints the number of minutes in a year.\n",
    "#Assume the following:\n",
    "#1 year = 365 days (Ignore leap years)\n",
    "#1 day = 24 hours\n",
    "#1 hour = 60 minutes\n",
    "\n",
    "year = 365 #declaring a year variable and initializing it\n",
    "day = 24   #declaring a day variable and initializing it\n",
    "hour = 60  #declaring a hour variable and initializing it\n",
    "minutesInYear = year*day*hour #formula to calculate minutes in a year\n",
    "print(\"The number of minutes in a year is \", minutesInYear) #printing out the number of minutes by inserting a string The number of minutes in a year is in front"
   ]
  },
  {
   "cell_type": "code",
   "execution_count": 1,
   "metadata": {},
   "outputs": [
    {
     "name": "stdout",
     "output_type": "stream",
     "text": [
      "Enter a text: We can either write another function decrypt similar to encrypt, that’ll apply the given shift in the opposite directi\n",
      "Enter the distance value: 2\n",
      "Yg\"ecp\"gkvjgt\"ytkvg\"cpqvjgt\"hwpevkqp\"fget{rv\"ukoknct\"vq\"gpet{rv.\"vjcv‛nn\"crrn{\"vjg\"ikxgp\"ujkhv\"kp\"vjg\"qrrqukvg\"fktgevk\n"
     ]
    }
   ],
   "source": [
    "#A function that takes 2 variables text and a distance\n",
    "def caesar_cipher(text, distance):\n",
    "\n",
    "    #declaring a variable to store the result and initializing it to an empty string\n",
    "    result = ''\n",
    "  \n",
    "    #looping through a text\n",
    "    for i in range(len(text)):\n",
    "         \n",
    "        #storing the word in a temp variable\n",
    "        temp = text[i]\n",
    "        #for every word in the text applying the encryption\n",
    "        result += chr( ord(temp) + distance )\n",
    "   \n",
    "   #printing the result\n",
    "    print(result)\n",
    "\n",
    "#asking the user to enter text\n",
    "plainText = input('Enter a text: ')\n",
    "#asking the user to enter distance value\n",
    "distance_value = int(input('Enter the distance value: '))\n",
    "\n",
    "#calling the function with variables that store user entries\n",
    "caesar_cipher(plainText, distance_value)"
   ]
  },
  {
   "cell_type": "code",
   "execution_count": 2,
   "metadata": {},
   "outputs": [
    {
     "name": "stdout",
     "output_type": "stream",
     "text": [
      "Enter your text: it is a winter now\n",
      "Enter a letter: i\n"
     ]
    },
    {
     "data": {
      "text/plain": [
       "3"
      ]
     },
     "execution_count": 2,
     "metadata": {},
     "output_type": "execute_result"
    }
   ],
   "source": [
    "def count_a(words, char): #creating a function that holds two variables words and char\n",
    "    count =0             #declaring a variable called count and initializing it with its initial value so i can use it later\n",
    "    for letter in words: #looping through the words variable and getting each letters in it\n",
    "        if char == letter: #comparing the letter with the char to check if they are equal\n",
    "            count += 1     #if the char and letter are equal i am incrementing the count by 1.\n",
    "    return count #returning the count variable.\n",
    "\n",
    "inputText = input(\"Enter your text: \") #promting the user to enter a text and stroing it to a variable\n",
    "\n",
    "searchedLetter = input(\"Enter a letter: \") #prompting the user to enter a letter and stroing it to a variable\n",
    "\n",
    "count_a(inputText, searchedLetter) #calling the function by passing the values that i stored before as its variables\n"
   ]
  },
  {
   "cell_type": "code",
   "execution_count": 1,
   "metadata": {},
   "outputs": [
    {
     "name": "stdout",
     "output_type": "stream",
     "text": [
      "Enter the file name: diamonds.csv\n",
      "The file has 53941 lines\n",
      "Please enter a line number or press 0 to quit:  1\n",
      "\"\",\"carat\",\"cut\",\"color\",\"clarity\",\"depth\",\"table\",\"price\",\"x\",\"y\",\"z\"\n",
      "\n",
      "Please enter a line number or press 0 to quit:  0\n",
      "Thanks for using the program\n"
     ]
    }
   ],
   "source": [
    "file = input(\"Enter the file name: \") #promting user to enter the file name\n",
    "text_file = open(file, \"r\")           #opening the file in read mode and storing it to a variable called text_file\n",
    "lines = text_file.readlines()         #stroing the list of lines to a variable lines\n",
    "print (\"The file has\", len(lines), \"lines\") #printing the length of a list of lines with the strings at the beginning and at the end\n",
    "while True:                           #Keeps on running the loop until the user enter 0\n",
    "    linenumber = int(input(\"Please enter a line number or press 0 to quit:  \")) #promting the user to enter the line number\n",
    "    if linenumber == 0:              #if statement to check run in case user enters 0\n",
    "        print(\"Thanks for using the program\") #when user enters 0 \"Thanks for using the program\" will be printed out\n",
    "        break                                #and the program stops\n",
    "    elif 1 <= linenumber <= len(lines) :  #else if the number is between 1(included) and the length of the list of lines(included)\n",
    "      print (lines[linenumber- 1])         #print out the line of text\n",
    "    else:                               #else if the user enters String, letters or bigger number than the length of the list of lines\n",
    "        print(\"Please enter valid line number\") #print the folowing \"Please enter valid line number\"\n",
    "text_file.close()                       #closes the file"
   ]
  },
  {
   "cell_type": "code",
   "execution_count": 7,
   "metadata": {},
   "outputs": [
    {
     "name": "stdout",
     "output_type": "stream",
     "text": [
      "Name: Ken\n",
      "Scores: 0 0 0 0 0\n",
      "Name: Ken\n",
      "Scores: 100 100 100 100 100\n",
      "False\n",
      "True\n",
      "False\n"
     ]
    }
   ],
   "source": [
    "\"\"\"\n",
    "Project 9.1\n",
    "Resources to manage a student's name and test scores.\n",
    "Includes methods for comparisons and testing for equality.\n",
    "\"\"\"\n",
    "\n",
    "class Student(object):\n",
    "    \"\"\"Represents a student.\"\"\"\n",
    "\n",
    "    def __init__(self, name, number):\n",
    "        \"\"\"All scores are initially 0.\"\"\"\n",
    "        self.name = name\n",
    "        self.scores = []\n",
    "        for count in range(number):\n",
    "            self.scores.append(0)\n",
    "\n",
    "    def getName(self):\n",
    "        \"\"\"Returns the student's name.\"\"\"\n",
    "        return self.name\n",
    "  \n",
    "    def setScore(self, i, score):\n",
    "        \"\"\"Resets the ith score, counting from 1.\"\"\"\n",
    "        self.scores[i - 1] = score\n",
    "\n",
    "    def getScore(self, i):\n",
    "        \"\"\"Returns the ith score, counting from 1.\"\"\"\n",
    "        return self.scores[i - 1]\n",
    "   \n",
    "    def getAverage(self):\n",
    "        \"\"\"Returns the average score.\"\"\"\n",
    "        return sum(self.scores) / len(self._scores)\n",
    "    \n",
    "    def getHighScore(self):\n",
    "        \"\"\"Returns the highest score.\"\"\"\n",
    "        return max(self.scores)\n",
    " \n",
    "    def __str__(self):\n",
    "        \"\"\"Returns the string representation of the student.\"\"\"\n",
    "        return \"Name: \" + self.name  + \"\\nScores: \" + \\\n",
    "               \" \".join(map(str, self.scores))\n",
    "        \n",
    "    # Write method definitions here\n",
    "    \"\"\"Returns true if the students names are the same, and false if they are different\"\"\"\n",
    "    def __eq__(self,student):\n",
    "        return self.name == student.name\n",
    "    \"\"\"Returns true if the stundents name is less than the other students name,if alphabetically preceeds, false if not \"\"\"\n",
    "    def __lt__(self,student):     \n",
    "        return self.name<student.name\n",
    "    \"\"\"Returns true if the students name is more than the other students name or equal to, alphabetically comes after, false if not\"\"\"\n",
    "    def __ge__(self,student):\n",
    "        return self.name == student.name or self.name>student.name\n",
    "\n",
    "    \n",
    "\n",
    "def main():\n",
    "    \"\"\"A simple test.\"\"\"\n",
    "    student = Student(\"Ken\", 5)\n",
    "    print(student)\n",
    "    for i in range(1, 6):\n",
    "        student.setScore(i, 100)\n",
    "    print(student)\n",
    "\n",
    "    #creating a Stuent objetcs\n",
    "    s1 = Student(\"John\", 3)\n",
    "    s2 = Student(\"William\", 5)\n",
    "    \n",
    "    print(s1.__eq__(s2)) #printing wether s1 is equal to s2\n",
    "    print(s1.__lt__(s2)) #printing wether the s1 is less than s2\n",
    "    print(s1.__ge__(s2)) #printing wether s1 is equal to s2 or s1 is more than s2\n",
    "    \n",
    "if __name__ == \"__main__\":\n",
    "    main()\n",
    "\n"
   ]
  },
  {
   "cell_type": "code",
   "execution_count": null,
   "metadata": {},
   "outputs": [],
   "source": []
  },
  {
   "cell_type": "code",
   "execution_count": null,
   "metadata": {},
   "outputs": [],
   "source": []
  }
 ],
 "metadata": {
  "kernelspec": {
   "display_name": "Python 3",
   "language": "python",
   "name": "python3"
  },
  "language_info": {
   "codemirror_mode": {
    "name": "ipython",
    "version": 3
   },
   "file_extension": ".py",
   "mimetype": "text/x-python",
   "name": "python",
   "nbconvert_exporter": "python",
   "pygments_lexer": "ipython3",
   "version": "3.7.6"
  }
 },
 "nbformat": 4,
 "nbformat_minor": 4
}
